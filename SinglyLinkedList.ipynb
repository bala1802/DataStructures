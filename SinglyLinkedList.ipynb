{
  "nbformat": 4,
  "nbformat_minor": 0,
  "metadata": {
    "colab": {
      "provenance": [],
      "authorship_tag": "ABX9TyO5+7Y3Ct0lFJUOzLikWETE",
      "include_colab_link": true
    },
    "kernelspec": {
      "name": "python3",
      "display_name": "Python 3"
    },
    "language_info": {
      "name": "python"
    }
  },
  "cells": [
    {
      "cell_type": "markdown",
      "metadata": {
        "id": "view-in-github",
        "colab_type": "text"
      },
      "source": [
        "<a href=\"https://colab.research.google.com/github/bala1802/DataStructures/blob/main/SinglyLinkedList.ipynb\" target=\"_parent\"><img src=\"https://colab.research.google.com/assets/colab-badge.svg\" alt=\"Open In Colab\"/></a>"
      ]
    },
    {
      "cell_type": "code",
      "execution_count": 1,
      "metadata": {
        "id": "df9EpkPaVfdy"
      },
      "outputs": [],
      "source": [
        "class Node:\n",
        "    def __init__(self, data):\n",
        "        self.data = data\n",
        "        self.next = None"
      ]
    },
    {
      "cell_type": "code",
      "source": [
        "class SinglyLinkedList:\n",
        "    def __init__(self):\n",
        "        self.head = None\n",
        "        self.tail = None\n",
        "        self.size = 0\n",
        "    \n",
        "    '''\n",
        "    '''\n",
        "    def getByIndex(self, index):\n",
        "        if index < 0  or index >= self.size:\n",
        "            return -1\n",
        "        \n",
        "        counter=0\n",
        "        currentNode = self.head\n",
        "        while counter != index:\n",
        "            currentNode = currentNode.next\n",
        "            counter += 1\n",
        "        \n",
        "        return currentNode\n",
        "    \n",
        "    '''\n",
        "    '''\n",
        "    def addAtHead(self, data):\n",
        "        newNode = Node(data)\n",
        "        if not self.head:\n",
        "            self.head = newNode\n",
        "            self.tail = newNode\n",
        "        else:\n",
        "            newNode.next = self.head\n",
        "            self.head = newNode\n",
        "        \n",
        "        self.size += 1\n",
        "\n",
        "    '''\n",
        "    '''\n",
        "    def addAtTail(self, data):\n",
        "        newNode = Node(data)\n",
        "        if self.size == 0:\n",
        "            self.addAtHead(data)\n",
        "        else:\n",
        "            self.tail.next = newNode\n",
        "            self.tail = newNode\n",
        "            self.size += 1\n",
        "\n",
        "    '''\n",
        "    '''\n",
        "    def addAtIndex(self, index, data):\n",
        "        if index < 0 or index > self.size:\n",
        "            return \"Invalid Index\"\n",
        "        \n",
        "        if index == self.size:\n",
        "            self.addAtTail(data)\n",
        "        else:\n",
        "            newNode = Node(data)\n",
        "            prevNode = self.getByIndex(index-1)\n",
        "            temp = prevNode.next\n",
        "            prevNode.next = newNode\n",
        "            newNode.next = temp\n",
        "            self.size += 1\n",
        "\n",
        "    '''\n",
        "    '''\n",
        "    def removeHead(self):\n",
        "        if self.size > 0:\n",
        "            print(\"Removing - \", self.head.data)\n",
        "            nextNode = self.head.next\n",
        "            self.head = nextNode\n",
        "            self.size -= 1\n",
        "\n",
        "            if self.size == 0:\n",
        "                self.tail = None\n",
        "            elif self.size == 1:\n",
        "                self.tail = nextNode\n",
        "                \n",
        "        return None\n",
        "    \n",
        "    '''\n",
        "    '''\n",
        "    def removeTail(self):\n",
        "        if self.size > 0:\n",
        "            print(\"Removing - \", self.tail.data)\n",
        "            if self.size == 1:\n",
        "                self.head = None\n",
        "                self.tail = None\n",
        "                self.size -= 1\n",
        "            else:\n",
        "                lastButOneNode = self.getByIndex(self.size-2)\n",
        "                lastButOneNode.next = None\n",
        "                self.tail = lastButOneNode\n",
        "                self.size -= 1\n",
        "                if self.size == 1:\n",
        "                    self.head = lastButOneNode\n",
        "\n",
        "        return\n",
        "\n",
        "    '''\n",
        "    '''\n",
        "    def removeAtIndex(self, index):\n",
        "        if index < 0 or index >= self.size:\n",
        "            return\n",
        "        if index == 0:\n",
        "            self.removeHead()\n",
        "            return\n",
        "        if index == self.size - 1:\n",
        "            self.removeTail()\n",
        "            return\n",
        "        \n",
        "        prevNode = self.getByIndex(index-1)\n",
        "        nextNode = self.getByIndex(index+1)\n",
        "        prevNode.next = nextNode\n",
        "        self.size -= 1\n",
        "\n",
        "        return"
      ],
      "metadata": {
        "id": "yFFaggovV-Zr"
      },
      "execution_count": 2,
      "outputs": []
    },
    {
      "cell_type": "code",
      "source": [
        "'''\n",
        "'''\n",
        "def display(singlyLinkedList):\n",
        "    elements = []\n",
        "    for index in range(singlyLinkedList.size):\n",
        "        elements.append(singlyLinkedList.getByIndex(index).data)\n",
        "    if elements:\n",
        "        print(elements)\n",
        "        print(\"Size : \", singlyLinkedList.size)\n",
        "    else:\n",
        "        print(\"Linked List is Empty!!!\")"
      ],
      "metadata": {
        "id": "0IHMEV1bWJ_9"
      },
      "execution_count": 3,
      "outputs": []
    },
    {
      "cell_type": "code",
      "source": [
        "singlyLinkedList = SinglyLinkedList()"
      ],
      "metadata": {
        "id": "xK_LBH7rcz0r"
      },
      "execution_count": 4,
      "outputs": []
    },
    {
      "cell_type": "code",
      "source": [
        "singlyLinkedList.addAtHead(0)\n",
        "singlyLinkedList.addAtHead(1)\n",
        "singlyLinkedList.addAtTail(2)\n",
        "display(singlyLinkedList=singlyLinkedList)"
      ],
      "metadata": {
        "colab": {
          "base_uri": "https://localhost:8080/"
        },
        "id": "W3ozbN5rdBNZ",
        "outputId": "dff70476-ad19-42a0-cd73-44234fd96325"
      },
      "execution_count": 5,
      "outputs": [
        {
          "output_type": "stream",
          "name": "stdout",
          "text": [
            "[1, 0, 2]\n",
            "Size :  3\n"
          ]
        }
      ]
    },
    {
      "cell_type": "code",
      "source": [
        "singlyLinkedList.addAtIndex(1, 3)\n",
        "display(singlyLinkedList=singlyLinkedList)"
      ],
      "metadata": {
        "colab": {
          "base_uri": "https://localhost:8080/"
        },
        "id": "SlgFLG4wdD5e",
        "outputId": "52046a64-03a9-4e59-e068-595bbf40a302"
      },
      "execution_count": 6,
      "outputs": [
        {
          "output_type": "stream",
          "name": "stdout",
          "text": [
            "[1, 3, 0, 2]\n",
            "Size :  4\n"
          ]
        }
      ]
    },
    {
      "cell_type": "code",
      "source": [
        "singlyLinkedList.addAtIndex(4, 4)\n",
        "display(singlyLinkedList=singlyLinkedList)"
      ],
      "metadata": {
        "colab": {
          "base_uri": "https://localhost:8080/"
        },
        "id": "QOyiD1pHdGdh",
        "outputId": "ba5b33bb-479e-40b1-f911-e3394308a89a"
      },
      "execution_count": 7,
      "outputs": [
        {
          "output_type": "stream",
          "name": "stdout",
          "text": [
            "[1, 3, 0, 2, 4]\n",
            "Size :  5\n"
          ]
        }
      ]
    },
    {
      "cell_type": "code",
      "source": [
        "singlyLinkedList.addAtHead(100)\n",
        "display(singlyLinkedList=singlyLinkedList)"
      ],
      "metadata": {
        "colab": {
          "base_uri": "https://localhost:8080/"
        },
        "id": "8D5AGumzdJ1Z",
        "outputId": "c3ce6fc5-53d4-4275-9937-f14930c01a77"
      },
      "execution_count": 8,
      "outputs": [
        {
          "output_type": "stream",
          "name": "stdout",
          "text": [
            "[100, 1, 3, 0, 2, 4]\n",
            "Size :  6\n"
          ]
        }
      ]
    },
    {
      "cell_type": "code",
      "source": [
        "singlyLinkedList.addAtIndex(3, 125)\n",
        "display(singlyLinkedList=singlyLinkedList)"
      ],
      "metadata": {
        "colab": {
          "base_uri": "https://localhost:8080/"
        },
        "id": "tuXi2rqddMhB",
        "outputId": "998fd23f-343d-4f1f-f316-82769b12bb40"
      },
      "execution_count": 9,
      "outputs": [
        {
          "output_type": "stream",
          "name": "stdout",
          "text": [
            "[100, 1, 3, 125, 0, 2, 4]\n",
            "Size :  7\n"
          ]
        }
      ]
    },
    {
      "cell_type": "code",
      "source": [
        "singlyLinkedList.addAtHead(150)\n",
        "display(singlyLinkedList=singlyLinkedList)"
      ],
      "metadata": {
        "colab": {
          "base_uri": "https://localhost:8080/"
        },
        "id": "LRYFfxrWdOmu",
        "outputId": "389c8e09-4e23-4e5d-c130-3e5dd0ae4401"
      },
      "execution_count": 10,
      "outputs": [
        {
          "output_type": "stream",
          "name": "stdout",
          "text": [
            "[150, 100, 1, 3, 125, 0, 2, 4]\n",
            "Size :  8\n"
          ]
        }
      ]
    },
    {
      "cell_type": "code",
      "source": [
        "singlyLinkedList.addAtTail(1000)\n",
        "display(singlyLinkedList=singlyLinkedList)"
      ],
      "metadata": {
        "colab": {
          "base_uri": "https://localhost:8080/"
        },
        "id": "OsYO5UqMdQuZ",
        "outputId": "1bf08ab8-0d69-4e2e-981c-d76cc976a03f"
      },
      "execution_count": 11,
      "outputs": [
        {
          "output_type": "stream",
          "name": "stdout",
          "text": [
            "[150, 100, 1, 3, 125, 0, 2, 4, 1000]\n",
            "Size :  9\n"
          ]
        }
      ]
    },
    {
      "cell_type": "code",
      "source": [
        "singlyLinkedList.addAtIndex(singlyLinkedList.size, 1100)\n",
        "display(singlyLinkedList=singlyLinkedList)"
      ],
      "metadata": {
        "colab": {
          "base_uri": "https://localhost:8080/"
        },
        "id": "2owVoIKVdStw",
        "outputId": "c3d29e34-4c97-4f83-a405-c986534b3362"
      },
      "execution_count": 12,
      "outputs": [
        {
          "output_type": "stream",
          "name": "stdout",
          "text": [
            "[150, 100, 1, 3, 125, 0, 2, 4, 1000, 1100]\n",
            "Size :  10\n"
          ]
        }
      ]
    },
    {
      "cell_type": "code",
      "source": [
        "singlyLinkedList.addAtTail(2000)\n",
        "display(singlyLinkedList=singlyLinkedList)"
      ],
      "metadata": {
        "colab": {
          "base_uri": "https://localhost:8080/"
        },
        "id": "7mEyu3dXdUUh",
        "outputId": "0eee027d-0685-45ff-fd5f-47c9c1839834"
      },
      "execution_count": 13,
      "outputs": [
        {
          "output_type": "stream",
          "name": "stdout",
          "text": [
            "[150, 100, 1, 3, 125, 0, 2, 4, 1000, 1100, 2000]\n",
            "Size :  11\n"
          ]
        }
      ]
    },
    {
      "cell_type": "code",
      "source": [
        "import random\n",
        "indices = [index for index in range(singlyLinkedList.size-1)]\n",
        "random.shuffle(indices)\n",
        "\n",
        "print(indices)"
      ],
      "metadata": {
        "colab": {
          "base_uri": "https://localhost:8080/"
        },
        "id": "OTRGT-tKdWde",
        "outputId": "bc6b94c5-b4f1-4fe6-8b04-87eb34341090"
      },
      "execution_count": 14,
      "outputs": [
        {
          "output_type": "stream",
          "name": "stdout",
          "text": [
            "[8, 2, 1, 0, 7, 6, 3, 4, 9, 5]\n"
          ]
        }
      ]
    },
    {
      "cell_type": "code",
      "source": [
        "print(\"Before Removing at index 5\")\n",
        "display(singlyLinkedList=singlyLinkedList)\n",
        "\n",
        "singlyLinkedList.removeAtIndex(index=5)\n",
        "display(singlyLinkedList=singlyLinkedList)"
      ],
      "metadata": {
        "colab": {
          "base_uri": "https://localhost:8080/"
        },
        "id": "-DLskM8ReYIT",
        "outputId": "7a694d9b-4c26-4115-fedc-18d5070525c7"
      },
      "execution_count": 15,
      "outputs": [
        {
          "output_type": "stream",
          "name": "stdout",
          "text": [
            "Before Removing at index 5\n",
            "[150, 100, 1, 3, 125, 0, 2, 4, 1000, 1100, 2000]\n",
            "Size :  11\n",
            "[150, 100, 1, 3, 125, 2, 4, 1000, 1100, 2000]\n",
            "Size :  10\n"
          ]
        }
      ]
    },
    {
      "cell_type": "code",
      "source": [
        "print(\"Before Removing at index 3\")\n",
        "display(singlyLinkedList=singlyLinkedList)\n",
        "\n",
        "singlyLinkedList.removeAtIndex(index=3)\n",
        "display(singlyLinkedList=singlyLinkedList)"
      ],
      "metadata": {
        "colab": {
          "base_uri": "https://localhost:8080/"
        },
        "id": "nGdRQmmmeZan",
        "outputId": "fadc09ac-f547-4e1f-af2f-269fbc313fb2"
      },
      "execution_count": 16,
      "outputs": [
        {
          "output_type": "stream",
          "name": "stdout",
          "text": [
            "Before Removing at index 3\n",
            "[150, 100, 1, 3, 125, 2, 4, 1000, 1100, 2000]\n",
            "Size :  10\n",
            "[150, 100, 1, 125, 2, 4, 1000, 1100, 2000]\n",
            "Size :  9\n"
          ]
        }
      ]
    }
  ]
}